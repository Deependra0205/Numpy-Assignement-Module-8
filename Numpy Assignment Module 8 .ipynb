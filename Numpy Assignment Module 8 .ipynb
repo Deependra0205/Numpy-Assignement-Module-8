{
 "cells": [
  {
   "cell_type": "code",
   "execution_count": 7,
   "id": "4eea2843-f6de-477c-a9a5-4eec11ac4739",
   "metadata": {},
   "outputs": [],
   "source": [
    "import numpy as np\n",
    "import random"
   ]
  },
  {
   "cell_type": "code",
   "execution_count": 147,
   "id": "257db645-afac-414c-9006-210ed8b012bc",
   "metadata": {},
   "outputs": [
    {
     "data": {
      "text/plain": [
       "array([[70, 52, 74],\n",
       "       [15, 89, 11],\n",
       "       [94, 37,  9]])"
      ]
     },
     "execution_count": 147,
     "metadata": {},
     "output_type": "execute_result"
    }
   ],
   "source": [
    "# 1. Create a 3x3 NumPy array with random integers between 1 and 100. Then, interchange its rows and columns.\n",
    "\n",
    "arr1 = np.random.randint(1,100,(3,3))\n",
    "arr1"
   ]
  },
  {
   "cell_type": "code",
   "execution_count": 149,
   "id": "a7cc7a07-4f33-4d0d-833e-b693aa044111",
   "metadata": {},
   "outputs": [
    {
     "data": {
      "text/plain": [
       "array([[70, 15, 94],\n",
       "       [52, 89, 37],\n",
       "       [74, 11,  9]])"
      ]
     },
     "execution_count": 149,
     "metadata": {},
     "output_type": "execute_result"
    }
   ],
   "source": [
    "arr1.T #Interchanged in Rows to Clolumn"
   ]
  },
  {
   "cell_type": "code",
   "execution_count": null,
   "id": "e0f9c2e0-dc77-41e3-b882-1bb62a9ec3d8",
   "metadata": {},
   "outputs": [],
   "source": []
  },
  {
   "cell_type": "code",
   "execution_count": 35,
   "id": "8fec7e78-0647-47c5-a68c-51ee4d98931f",
   "metadata": {},
   "outputs": [
    {
     "data": {
      "text/plain": [
       "array([ 1,  2,  3,  4,  5,  6,  7,  8,  9, 10])"
      ]
     },
     "execution_count": 35,
     "metadata": {},
     "output_type": "execute_result"
    }
   ],
   "source": [
    "# 2. Generate a 1D NumPy array with 10 elements. Reshape it into a 2x5 array, then into a 5x2 array.\n",
    "\n",
    "arr2 = np.array([1,2,3,4,5,6,7,8,9,10])\n",
    "arr2"
   ]
  },
  {
   "cell_type": "code",
   "execution_count": 37,
   "id": "ee4cb2e4-6554-42ac-888e-aeece600edd1",
   "metadata": {},
   "outputs": [
    {
     "data": {
      "text/plain": [
       "array([[ 1,  2,  3,  4,  5],\n",
       "       [ 6,  7,  8,  9, 10]])"
      ]
     },
     "execution_count": 37,
     "metadata": {},
     "output_type": "execute_result"
    }
   ],
   "source": [
    "arr2.reshape(2,5)"
   ]
  },
  {
   "cell_type": "code",
   "execution_count": 39,
   "id": "58d625a9-dd67-4b3c-b397-dac93d2c27aa",
   "metadata": {},
   "outputs": [
    {
     "data": {
      "text/plain": [
       "array([[ 1,  2],\n",
       "       [ 3,  4],\n",
       "       [ 5,  6],\n",
       "       [ 7,  8],\n",
       "       [ 9, 10]])"
      ]
     },
     "execution_count": 39,
     "metadata": {},
     "output_type": "execute_result"
    }
   ],
   "source": [
    "arr2.reshape(5,2)"
   ]
  },
  {
   "cell_type": "code",
   "execution_count": null,
   "id": "6eaf86bb-69c7-49bd-9c14-f5a89c154d91",
   "metadata": {},
   "outputs": [],
   "source": []
  },
  {
   "cell_type": "code",
   "execution_count": 84,
   "id": "3d242ac1-f594-48ef-b343-4aa9c16f47a6",
   "metadata": {},
   "outputs": [],
   "source": [
    "# 3. Create a 4x4 NumPy array with random float values. Add a border of zeros around it, resulting in a 6x6 array.\n",
    "\n",
    "random_array = np.random.rand(4,4)\n",
    "border_array = np.zeros((6,6))\n"
   ]
  },
  {
   "cell_type": "code",
   "execution_count": 86,
   "id": "62c99cd0-8138-440d-ad29-5a644458c6ce",
   "metadata": {},
   "outputs": [
    {
     "name": "stdout",
     "output_type": "stream",
     "text": [
      "Random 4x4 Array:\n",
      "[[0.39300471 0.96263529 0.56034015 0.49545518]\n",
      " [0.28868257 0.06061811 0.42214254 0.29740884]\n",
      " [0.16627907 0.02088736 0.35869012 0.82567971]\n",
      " [0.34648002 0.9027956  0.71555739 0.47525009]]\n",
      "\n",
      "6x6 Array with a Border of Zeros:\n",
      "[[0.         0.         0.         0.         0.         0.        ]\n",
      " [0.         0.39300471 0.96263529 0.56034015 0.49545518 0.        ]\n",
      " [0.         0.28868257 0.06061811 0.42214254 0.29740884 0.        ]\n",
      " [0.         0.16627907 0.02088736 0.35869012 0.82567971 0.        ]\n",
      " [0.         0.34648002 0.9027956  0.71555739 0.47525009 0.        ]\n",
      " [0.         0.         0.         0.         0.         0.        ]]\n"
     ]
    }
   ],
   "source": [
    "border_array [1:5 , 1:5] = random_array\n",
    "\n",
    "print(\"Random 4x4 Array:\")\n",
    "print(random_array)\n",
    "print(\"\\n6x6 Array with a Border of Zeros:\")\n",
    "print(border_array)"
   ]
  },
  {
   "cell_type": "code",
   "execution_count": null,
   "id": "901a123c-ce76-4768-83b7-425772f5b142",
   "metadata": {},
   "outputs": [],
   "source": []
  },
  {
   "cell_type": "code",
   "execution_count": 225,
   "id": "f6aa6a8e-e544-4321-888d-f5bd113cc170",
   "metadata": {},
   "outputs": [
    {
     "data": {
      "text/plain": [
       "array([10, 15, 20, 25, 30, 35, 40, 45, 50, 55, 60])"
      ]
     },
     "execution_count": 225,
     "metadata": {},
     "output_type": "execute_result"
    }
   ],
   "source": [
    "# 4. Using NumPy, create an array of integers from 10 to 60 with a step of 5.\n",
    "array = np.arange(10,61,5)\n",
    "array"
   ]
  },
  {
   "cell_type": "code",
   "execution_count": null,
   "id": "8c0de59a-950f-477e-a4b1-c916ff913b4b",
   "metadata": {},
   "outputs": [],
   "source": []
  },
  {
   "cell_type": "code",
   "execution_count": null,
   "id": "039e6b96-9991-4061-8022-9faae19af3bf",
   "metadata": {},
   "outputs": [],
   "source": []
  },
  {
   "cell_type": "code",
   "execution_count": 94,
   "id": "67db957a-c3ff-4bec-ba24-8f39ebd9c5da",
   "metadata": {},
   "outputs": [
    {
     "name": "stdout",
     "output_type": "stream",
     "text": [
      "Uppercase:\n",
      "['PYTHON' 'NUMPY' 'PANDAS']\n",
      "\n",
      "Lowercase:\n",
      "['python' 'numpy' 'pandas']\n",
      "\n",
      "Titlecase:\n",
      "['python' 'numpy' 'pandas']\n"
     ]
    }
   ],
   "source": [
    "# 5. Create a NumPy array of strings ['python', 'numpy', 'pandas']. Apply different case transformations \n",
    "#(uppercase, lowercase, title case, etc.) to each element.\n",
    "\n",
    "String = \"python\", \"numpy\", \"pandas\"\n",
    "np.array(String)\n",
    "\n",
    "# Uppercase\n",
    "upper_case = np.char.upper(String)\n",
    "\n",
    "#Lowercase\n",
    "lower_case = np.char.lower(String)\n",
    "\n",
    "#Titlecase\n",
    "title_case = np.char.title(String)\n",
    "\n",
    "print(\"Uppercase:\")\n",
    "print(upper_case)\n",
    "print(\"\\nLowercase:\")\n",
    "print(lower_case)\n",
    "print(\"\\nTitlecase:\")\n",
    "print(lower_case)"
   ]
  },
  {
   "cell_type": "code",
   "execution_count": null,
   "id": "fa0b9757-9cde-41e1-80e7-76050221ebdf",
   "metadata": {},
   "outputs": [],
   "source": []
  },
  {
   "cell_type": "code",
   "execution_count": 98,
   "id": "e3b25716-0c4b-4635-8963-672a27316ce3",
   "metadata": {},
   "outputs": [
    {
     "name": "stdout",
     "output_type": "stream",
     "text": [
      "Word Array:\n",
      "['Hello' 'Welcome' 'to' 'India']\n",
      "\n",
      "Spaced Words:\n",
      "['H e l l o' 'W e l c o m e' 't o' 'I n d i a']\n"
     ]
    }
   ],
   "source": [
    "# 6. Generate a NumPy array of words. Insert a space between each character of every word in the array.\n",
    "word_array = np.array([\"Hello\",\"Welcome\",\"to\",\"India\"])\n",
    "\n",
    "spaced_words_array = np.array([' '.join(word) for word in word_array])\n",
    "\n",
    "print(\"Word Array:\")\n",
    "print(word_array)\n",
    "print (\"\\nSpaced Words:\")\n",
    "print(spaced_words_array)"
   ]
  },
  {
   "cell_type": "code",
   "execution_count": null,
   "id": "98be2564-6da9-45dc-9f1e-39c247025a31",
   "metadata": {},
   "outputs": [],
   "source": []
  },
  {
   "cell_type": "code",
   "execution_count": 105,
   "id": "34f12ff9-19b9-4619-8881-2f9dad3a7f40",
   "metadata": {},
   "outputs": [
    {
     "data": {
      "text/plain": [
       "array([[80, 95],\n",
       "       [74, 67]])"
      ]
     },
     "execution_count": 105,
     "metadata": {},
     "output_type": "execute_result"
    }
   ],
   "source": [
    "#  7. Create two 2D NumPy arrays and perform element-wise addition, subtraction, multiplication, and division.\n",
    "\n",
    "Array1 = np.array([[80,95],[74,67]])\n",
    "Array1\n"
   ]
  },
  {
   "cell_type": "code",
   "execution_count": 107,
   "id": "0ac88ba5-46cc-4b0c-8ede-3e0e1f9cd498",
   "metadata": {},
   "outputs": [
    {
     "data": {
      "text/plain": [
       "array([[50, 45],\n",
       "       [24, 15]])"
      ]
     },
     "execution_count": 107,
     "metadata": {},
     "output_type": "execute_result"
    }
   ],
   "source": [
    "Array2 = np.array([[50,45],[24,15]])\n",
    "Array2"
   ]
  },
  {
   "cell_type": "code",
   "execution_count": 119,
   "id": "e141765e-ad4d-4683-8dbb-cf22f77d4690",
   "metadata": {},
   "outputs": [
    {
     "name": "stdout",
     "output_type": "stream",
     "text": [
      "Addition Result:\n",
      "[[130 140]\n",
      " [ 98  82]]\n",
      "\n",
      "Substraction Result:\n",
      "[[30 50]\n",
      " [50 52]]\n",
      "\n",
      "Multiplication Result:\n",
      "[[4000 4275]\n",
      " [1776 1005]]\n",
      "\n",
      "Division Result:\n",
      "[[1.6        2.11111111]\n",
      " [3.08333333 4.46666667]]\n"
     ]
    }
   ],
   "source": [
    "Addition = Array1 + Array2\n",
    "Substraction = Array1 - Array2\n",
    "Multiplication = Array1 * Array2\n",
    "Division = Array1 / Array2\n",
    "\n",
    "print(\"Addition Result:\")\n",
    "print(Addition)\n",
    "\n",
    "print(\"\\nSubstraction Result:\")\n",
    "print(Substraction)\n",
    "\n",
    "print(\"\\nMultiplication Result:\")\n",
    "print(Multiplication)\n",
    "\n",
    "print(\"\\nDivision Result:\")\n",
    "print(Division)"
   ]
  },
  {
   "cell_type": "code",
   "execution_count": null,
   "id": "2a2b86d4-cfc7-4c5d-b366-abbc95eed650",
   "metadata": {},
   "outputs": [],
   "source": []
  },
  {
   "cell_type": "code",
   "execution_count": 117,
   "id": "af7a2926-73de-41ce-bed7-b68a32bad246",
   "metadata": {},
   "outputs": [
    {
     "name": "stdout",
     "output_type": "stream",
     "text": [
      "5x5 Identity Mattrix:\n",
      "[[1 0 0 0 0]\n",
      " [0 1 0 0 0]\n",
      " [0 0 1 0 0]\n",
      " [0 0 0 1 0]\n",
      " [0 0 0 0 1]]\n",
      "\n",
      "Diagnol elements:\n",
      "[1 1 1 1 1]\n"
     ]
    }
   ],
   "source": [
    "#  8. Use NumPy to create a 5x5 identity matrix, then extract its diagonal elements.\n",
    "Identity_matrix = np.eye(5, dtype=int)\n",
    "Identity_matrix\n",
    "Diagnol_elements = np.diag(Identity_matrix)\n",
    "\n",
    "print(\"5x5 Identity Mattrix:\")\n",
    "print(Identity_matrix)\n",
    "\n",
    "print(\"\\nDiagnol elements:\")\n",
    "print(Diagnol_elements)\n",
    "      "
   ]
  },
  {
   "cell_type": "code",
   "execution_count": null,
   "id": "560ac4d9-7da3-43cb-a31f-a3124d64d288",
   "metadata": {},
   "outputs": [],
   "source": []
  },
  {
   "cell_type": "code",
   "execution_count": 123,
   "id": "37936d7a-5ccd-4ce1-a13a-532bd4df5628",
   "metadata": {},
   "outputs": [
    {
     "name": "stdout",
     "output_type": "stream",
     "text": [
      "Random Array:\n",
      "[489 328 601 963 815 350 639 616 427 478 274 480 442 802 708  68 691 181\n",
      " 248 693 600 127 848 532  78 963 139 358 987 537 666 313 857 541 910 313\n",
      " 506 743 672 444 957 180 205 312 173 798 533 530 779 665 590 376  25 706\n",
      " 616 542 645 226 496 571 533 618 153 630 185  30 606 484 649 597  33 197\n",
      " 584 743 651 477 499 549 868 975 481 259 255 307 373  74 686 306 372 183\n",
      " 898 818  83 365  92 590 896 178 985 792]\n",
      "\n",
      "Prime Numbers:\n",
      "[601, 691, 181, 127, 139, 313, 857, 541, 313, 743, 173, 571, 197, 743, 499, 307, 373, 83]\n"
     ]
    }
   ],
   "source": [
    "# 9. Generate a NumPy array of 100 random integers between 0 and 1000. Find and display all prime numbers in this array.\n",
    "\n",
    "Random_integers = np.random.randint(0,1000,100)\n",
    "Random_integers\n",
    "\n",
    "def is_prime(num):\n",
    "    if num < 2:\n",
    "        return False\n",
    "    for i in range(2, int(num**0.5) + 1):\n",
    "        if num % i == 0:\n",
    "            return False\n",
    "    return True\n",
    "\n",
    "Prime_numbers = [num for num in Random_integers if is_prime(num)]\n",
    "\n",
    "print(\"Random Array:\")\n",
    "print(Random_integers)\n",
    "\n",
    "print(\"\\nPrime Numbers:\")\n",
    "print(Prime_numbers)"
   ]
  },
  {
   "cell_type": "code",
   "execution_count": null,
   "id": "c437e055-603a-4766-b71a-74ba85716f28",
   "metadata": {},
   "outputs": [],
   "source": []
  },
  {
   "cell_type": "code",
   "execution_count": 125,
   "id": "06c34929-154f-4e18-9e3d-75fd0195e266",
   "metadata": {},
   "outputs": [
    {
     "name": "stdout",
     "output_type": "stream",
     "text": [
      "Daily Temperatures for the Month:\n",
      "\n",
      "[30 38 38 36 29 23 22 21 37 31 22 20 23 24 34 29 32 24 39 27 23 31 21 24\n",
      " 34 32 21 30 31 35]\n",
      "\n",
      "Weekly Averages:\n",
      "\n",
      "[30.857142857142858, 25.428571428571427, 29.714285714285715, 27.571428571428573, 33.0]\n"
     ]
    }
   ],
   "source": [
    "# 10. Create a NumPy array representing daily temperatures for a month. Calculate and display the weekly averages.\n",
    "\n",
    "daily_temperatures = np.random.randint(20, 40, size=30)  # Random temperatures between 20 and 40 degrees\n",
    "\n",
    "# Reshape the array into 4 weeks (each week has 7 days, except the last one with 9 days for a 30-day month)\n",
    "weeks = np.split(daily_temperatures[:28], 4)  # First 4 full weeks\n",
    "last_week = daily_temperatures[28:]           # Last week (2 remaining days)\n",
    "\n",
    "# Weekly average for first 4 weeks\n",
    "weekly_averages = [np.mean(week) for week in weeks]\n",
    "weekly_averages.append(np.mean(last_week))  # Average for the last week\n",
    "\n",
    "\n",
    "print(\"Daily Temperatures for the Month:\\n\") \n",
    "print(daily_temperatures)\n",
    "\n",
    "print(\"\\nWeekly Averages:\\n\")\n",
    "print(weekly_averages)\n"
   ]
  },
  {
   "cell_type": "code",
   "execution_count": null,
   "id": "7cfd1e3e-fa7b-412e-b869-cc9e9c2d8b9b",
   "metadata": {},
   "outputs": [],
   "source": []
  },
  {
   "cell_type": "code",
   "execution_count": null,
   "id": "f3a7c8a1-4bf3-4dcd-8429-4a57a8de1b71",
   "metadata": {},
   "outputs": [],
   "source": []
  }
 ],
 "metadata": {
  "kernelspec": {
   "display_name": "Python 3 (ipykernel)",
   "language": "python",
   "name": "python3"
  },
  "language_info": {
   "codemirror_mode": {
    "name": "ipython",
    "version": 3
   },
   "file_extension": ".py",
   "mimetype": "text/x-python",
   "name": "python",
   "nbconvert_exporter": "python",
   "pygments_lexer": "ipython3",
   "version": "3.12.4"
  }
 },
 "nbformat": 4,
 "nbformat_minor": 5
}
